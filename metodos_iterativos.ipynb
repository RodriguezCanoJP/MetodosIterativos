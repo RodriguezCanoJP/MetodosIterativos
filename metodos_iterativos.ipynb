{
 "cells": [
  {
   "cell_type": "code",
   "execution_count": 1,
   "id": "6a28f08d",
   "metadata": {},
   "outputs": [],
   "source": [
    "import time\n",
    "from sympy import *"
   ]
  },
  {
   "cell_type": "code",
   "execution_count": 2,
   "id": "247d3e0f",
   "metadata": {},
   "outputs": [],
   "source": [
    "x = symbols('x')"
   ]
  },
  {
   "cell_type": "markdown",
   "id": "54bb2f7d",
   "metadata": {},
   "source": [
    "# Funciones"
   ]
  },
  {
   "cell_type": "code",
   "execution_count": 3,
   "id": "7d6ed0f3",
   "metadata": {},
   "outputs": [],
   "source": [
    "def biseccion(a, b, func, tol, iterMax):\n",
    "    f = lambdify(x,func)\n",
    "    \n",
    "    xk=None\n",
    "    error = abs(f(a+b/2))\n",
    "    k=iterMax\n",
    "    \n",
    "    for i in range(iterMax):\n",
    "        if f(a)*f(b) < 0:\n",
    "            xk = (a+b)/2\n",
    "            error = abs(f(xk))\n",
    "            if f(xk)*f(a) < 0:\n",
    "                b=xk\n",
    "            else:\n",
    "                a=xk\n",
    "            if error <= tol:\n",
    "                k=i\n",
    "                break\n",
    "        else:\n",
    "            xk=None\n",
    "    \n",
    "    return xk,error,k"
   ]
  },
  {
   "cell_type": "code",
   "execution_count": 4,
   "id": "d7a3975f",
   "metadata": {},
   "outputs": [],
   "source": [
    "def falsa_posicion(a, b, func, tol, iterMax):\n",
    "    f = lambdify(x,func)\n",
    "    \n",
    "    xk=b\n",
    "    error = abs(f(a+b/2))\n",
    "    k=iterMax\n",
    "    \n",
    "    x_c = xk\n",
    "    x_p = a\n",
    "    \n",
    "    for i in range(iterMax):\n",
    "        if f(a)*f(b) < 0:\n",
    "            xk = xk - (f(x_c)*(x_c - x_p))/(f(x_c)-f(x_p))\n",
    "            x_p=x_c\n",
    "            x_c=xk\n",
    "            error = abs(f(xk))\n",
    "            if f(xk)*f(a) < 0:\n",
    "                b=xk\n",
    "            else:\n",
    "                a=xk\n",
    "            if error <= tol:\n",
    "                k=i\n",
    "                break\n",
    "        else:\n",
    "            xk=None\n",
    "    \n",
    "    return xk,error,k"
   ]
  },
  {
   "cell_type": "code",
   "execution_count": 8,
   "id": "52e67a11",
   "metadata": {},
   "outputs": [],
   "source": [
    "def steffensen_helper(x0, func, iterMax):\n",
    "    f = lambdify(x, func)\n",
    "    xk = x0\n",
    "    \n",
    "    for i in range(iterMax):\n",
    "        f_2 = f(xk)**2\n",
    "        xk = xk - f_2/(f(xk + f(xk))-f(xk))\n",
    "    \n",
    "    return xk"
   ]
  },
  {
   "cell_type": "code",
   "execution_count": 11,
   "id": "1dd11aba",
   "metadata": {},
   "outputs": [],
   "source": [
    "def steffensen_secante(x0, func, tol, iterMax):\n",
    "    f = lambdify(x, func)\n",
    "    \n",
    "    xk = x0\n",
    "    error=f(xk)\n",
    "    k=iterMax\n",
    "    \n",
    "    for i in range(iterMax):\n",
    "        fx = f(xk)\n",
    "        funcev1 = fx**3\n",
    "        funcev2 = f(xk + fx)-fx\n",
    "        funcev3 = f(xk) - steffensen_helper(x0, func, i)\n",
    "        xk = xk - funcev1/(funcev2 * funcev3)\n",
    "        error = abs(f(xk))\n",
    "        if error < tol:\n",
    "            k=i\n",
    "            break\n",
    "    \n",
    "    return xk, error, k"
   ]
  },
  {
   "cell_type": "markdown",
   "id": "b2471545",
   "metadata": {},
   "source": [
    "# Testing"
   ]
  },
  {
   "cell_type": "code",
   "execution_count": 6,
   "id": "4918eac7",
   "metadata": {},
   "outputs": [
    {
     "name": "stdout",
     "output_type": "stream",
     "text": [
      "Tiempo de ejecución: 0.00562596321105957s\n",
      "Xk = 2.527963201981038\n",
      "err = 1.3100631690576847e-11\n",
      "k = 30\n"
     ]
    }
   ],
   "source": [
    "start = time.time()\n",
    "xk, err, k = biseccion(-2,3, exp(x)-x-10,1e-10, 1000)\n",
    "stop = time.time()\n",
    "print(f\"Tiempo de ejecución: {stop - start}s\")\n",
    "\n",
    "print(\"Xk = \" + str(xk))\n",
    "print(\"err = \" + str(err))\n",
    "print(\"k = \" + str(k))"
   ]
  },
  {
   "cell_type": "code",
   "execution_count": 7,
   "id": "8997362a",
   "metadata": {},
   "outputs": [
    {
     "name": "stdout",
     "output_type": "stream",
     "text": [
      "Tiempo de ejecución: 0.0019402503967285156s\n",
      "Xk = 2.5279632019811604\n",
      "err = 1.1686651646414248e-11\n",
      "k = 9\n"
     ]
    }
   ],
   "source": [
    "start = time.time()\n",
    "xk, err, k = falsa_posicion(-2,3, exp(x)-x-10,1e-10, 1000)\n",
    "stop = time.time()\n",
    "print(f\"Tiempo de ejecución: {stop - start}s\")\n",
    "\n",
    "print(\"Xk = \" + str(xk))\n",
    "print(\"err = \" + str(err))\n",
    "print(\"k = \" + str(k))"
   ]
  },
  {
   "cell_type": "code",
   "execution_count": 12,
   "id": "e5ba7b68",
   "metadata": {},
   "outputs": [
    {
     "name": "stderr",
     "output_type": "stream",
     "text": [
      "/var/folders/tq/mb390y9j4rggkdnpr7vpvhhr0000gn/T/ipykernel_1991/3948318365.py:7: RuntimeWarning: invalid value encountered in double_scalars\n",
      "  xk = xk - f_2/(f(xk + f(xk))-f(xk))\n"
     ]
    },
    {
     "name": "stdout",
     "output_type": "stream",
     "text": [
      "Training time: 1.7202749252319336s\n",
      "Xk = nan\n",
      "err = nan\n",
      "k = 1000\n"
     ]
    }
   ],
   "source": [
    "start = time.time()\n",
    "xk, err, k = steffensen_secante(3, exp(x)-x-10,1e-10, 1000)\n",
    "stop = time.time()\n",
    "print(f\"Training time: {stop - start}s\")\n",
    "\n",
    "print(\"Xk = \" + str(xk))\n",
    "print(\"err = \" + str(err))\n",
    "print(\"k = \" + str(k))"
   ]
  },
  {
   "cell_type": "code",
   "execution_count": null,
   "id": "15749bc3",
   "metadata": {},
   "outputs": [],
   "source": []
  }
 ],
 "metadata": {
  "kernelspec": {
   "display_name": "Python 3 (ipykernel)",
   "language": "python",
   "name": "python3"
  },
  "language_info": {
   "codemirror_mode": {
    "name": "ipython",
    "version": 3
   },
   "file_extension": ".py",
   "mimetype": "text/x-python",
   "name": "python",
   "nbconvert_exporter": "python",
   "pygments_lexer": "ipython3",
   "version": "3.9.13"
  }
 },
 "nbformat": 4,
 "nbformat_minor": 5
}
