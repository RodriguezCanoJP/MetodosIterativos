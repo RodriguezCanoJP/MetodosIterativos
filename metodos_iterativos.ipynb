{
 "cells": [
  {
   "cell_type": "code",
   "execution_count": null,
   "id": "6a28f08d",
   "metadata": {},
   "outputs": [],
   "source": [
    "import time\n",
    "from sympy import *"
   ]
  },
  {
   "cell_type": "code",
   "execution_count": null,
   "id": "b3cf9467",
   "metadata": {},
   "outputs": [],
   "source": [
    "x = symbols('x')"
   ]
  },
  {
   "cell_type": "code",
   "execution_count": null,
   "id": "7d6ed0f3",
   "metadata": {},
   "outputs": [],
   "source": [
    "def biseccion(a, b, func, tol, iterMax):\n",
    "    f = lambdify(x,func)\n",
    "    \n",
    "    xk=None\n",
    "    error = abs(f(a+b/2))\n",
    "    k=iterMax\n",
    "    \n",
    "    for i in range(iterMax):\n",
    "        if f(a)*f(b) < 0:\n",
    "            xk = (a+b)/2\n",
    "            error = abs(f(xk))\n",
    "            if f(xk)*f(a) < 0:\n",
    "                b=xk\n",
    "            else:\n",
    "                a=xk\n",
    "            if error <= tol:\n",
    "                k=i\n",
    "                break\n",
    "        else:\n",
    "            xk=None\n",
    "    \n",
    "    return xk,error,k"
   ]
  },
  {
   "cell_type": "code",
   "execution_count": null,
   "id": "d7a3975f",
   "metadata": {},
   "outputs": [],
   "source": [
    "def falsa_posicion(a, b, func, tol, iterMax):\n",
    "    f = lambdify(x,func)\n",
    "    \n",
    "    xk=b\n",
    "    error = abs(f(a+b/2))\n",
    "    k=iterMax\n",
    "    \n",
    "    x_c = xk\n",
    "    x_p = a\n",
    "    \n",
    "    for i in range(iterMax):\n",
    "        if f(a)*f(b) < 0:\n",
    "            xk = xk - (f(x_c)*(x_c - x_p))/(f(x_c)-f(x_p))\n",
    "            x_p=x_c\n",
    "            x_c=xk\n",
    "            error = abs(f(xk))\n",
    "            if f(xk)*f(a) < 0:\n",
    "                b=xk\n",
    "            else:\n",
    "                a=xk\n",
    "            if error <= tol:\n",
    "                k=i\n",
    "                break\n",
    "        else:\n",
    "            xk=None\n",
    "    \n",
    "    return xk,error,k"
   ]
  },
  {
   "cell_type": "code",
   "execution_count": null,
   "id": "4918eac7",
   "metadata": {},
   "outputs": [],
   "source": [
    "start = time.time()\n",
    "xk, err, k = biseccion(-2,3, exp(x)-x-10,1e-10, 1000)\n",
    "stop = time.time()\n",
    "print(f\"Training time: {stop - start}s\")\n",
    "\n",
    "print(\"Xk = \" + str(xk))\n",
    "print(\"err = \" + str(err))\n",
    "print(\"k = \" + str(k))"
   ]
  },
  {
   "cell_type": "code",
   "execution_count": null,
   "id": "8997362a",
   "metadata": {},
   "outputs": [],
   "source": [
    "start = time.time()\n",
    "xk, err, k = falsa_posicion(-2,3, exp(x)-x-10,1e-10, 1000)\n",
    "stop = time.time()\n",
    "print(f\"Training time: {stop - start}s\")\n",
    "\n",
    "print(\"Xk = \" + str(xk))\n",
    "print(\"err = \" + str(err))\n",
    "print(\"k = \" + str(k))"
   ]
  }
 ],
 "metadata": {
  "kernelspec": {
   "display_name": "Python 3 (ipykernel)",
   "language": "python",
   "name": "python3"
  },
  "language_info": {
   "codemirror_mode": {
    "name": "ipython",
    "version": 3
   },
   "file_extension": ".py",
   "mimetype": "text/x-python",
   "name": "python",
   "nbconvert_exporter": "python",
   "pygments_lexer": "ipython3",
   "version": "3.9.13"
  }
 },
 "nbformat": 4,
 "nbformat_minor": 5
}
