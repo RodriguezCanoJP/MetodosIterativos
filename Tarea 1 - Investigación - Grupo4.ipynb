{
 "cells": [
  {
   "cell_type": "code",
   "execution_count": 381,
   "id": "6a28f08d",
   "metadata": {},
   "outputs": [],
   "source": [
    "import time\n",
    "from sympy import *\n",
    "\n",
    "import numpy as np"
   ]
  },
  {
   "cell_type": "code",
   "execution_count": 382,
   "id": "247d3e0f",
   "metadata": {},
   "outputs": [],
   "source": [
    "x = symbols('x')"
   ]
  },
  {
   "cell_type": "markdown",
   "id": "54bb2f7d",
   "metadata": {},
   "source": [
    "# Funciones"
   ]
  },
  {
   "cell_type": "code",
   "execution_count": 383,
   "id": "7d6ed0f3",
   "metadata": {},
   "outputs": [],
   "source": [
    "def biseccion(a, b, func, tol, iterMax):\n",
    "    \"\"\"\n",
    "\n",
    "    Función de la falsa posición para encontrar el cero de una función.\n",
    "    \n",
    "    Parámetros:\n",
    "        a: límite inferior\n",
    "        b: límite superior\n",
    "        func: Función a la que se le buscará el cero.\n",
    "        tol: Tolerancia para detener el método.\n",
    "        iterMax: Número máximo de iteraciones permitidas.\n",
    "    \n",
    "    Resultados:\n",
    "        xk: Aproximación de la raíz encontrada.\n",
    "        error: Valor absoluto de f(x), que se toma como el error en la aproximación.\n",
    "        k: Número de iteraciones realizadas.\n",
    "    \"\"\"\n",
    "    \n",
    "    f = lambdify(x,func)\n",
    "    xk=None\n",
    "    error = abs(f(a+b/2)) #error de x1\n",
    "    k=iterMax\n",
    "    \n",
    "    for i in range(iterMax):\n",
    "        if f(a)*f(b) < 0: #condición del teorema de Bolzano\n",
    "            xk = (a+b)/2\n",
    "            error = abs(f(xk)) \n",
    "            if f(xk)*f(a) < 0: #condición del teorema de Bolzano para la siguiente iteración\n",
    "                b=xk\n",
    "            else:\n",
    "                a=xk\n",
    "            if error <= tol:\n",
    "                k=i\n",
    "                break\n",
    "        else:\n",
    "            xk=None\n",
    "    \n",
    "    return xk,error,k"
   ]
  },
  {
   "cell_type": "code",
   "execution_count": 384,
   "id": "d7a3975f",
   "metadata": {},
   "outputs": [],
   "source": [
    "def falsa_posicion(a, b, func, tol, iterMax):\n",
    "    \"\"\"\n",
    "\n",
    "    Función de la falsa posición para encontrar el cero de una función.\n",
    "    \n",
    "    Parámetros:\n",
    "        a: límite inferior\n",
    "        b: límite superior\n",
    "        func: Función a la que se le buscará el cero.\n",
    "        tol: Tolerancia para detener el método.\n",
    "        iterMax: Número máximo de iteraciones permitidas.\n",
    "    \n",
    "    Resultados:\n",
    "        xk: Aproximación de la raíz encontrada.\n",
    "        error: Valor absoluto de f(x), que se toma como el error en la aproximación.\n",
    "        k: Número de iteraciones realizadas.\n",
    "    \"\"\"\n",
    "    \n",
    "    f = lambdify(x,func)\n",
    "    xk=b\n",
    "    error = abs(f(a+b/2))\n",
    "    k=iterMax\n",
    "    \n",
    "    x_c = xk #incialización del x actual\n",
    "    x_p = 0 #inicialización del x anterior, el valor no importa\n",
    "    \n",
    "    for i in range(iterMax):\n",
    "        if f(a)*f(b) < 0:\n",
    "            xk = xk - (f(x_c)*(x_c - x_p))/(f(x_c)-f(x_p))\n",
    "            x_p=x_c #actualiza el x anterior\n",
    "            x_c=xk #actualiza el x actual\n",
    "            error = abs(f(xk))\n",
    "            if f(xk)*f(a) < 0: #condición de teorema de Bolzano\n",
    "                b=xk\n",
    "            else:\n",
    "                a=xk\n",
    "            if error <= tol:\n",
    "                k=i\n",
    "                break\n",
    "        else:\n",
    "            xk=None\n",
    "    \n",
    "    return xk,error,k"
   ]
  },
  {
   "cell_type": "code",
   "execution_count": 385,
   "id": "52e67a11",
   "metadata": {},
   "outputs": [],
   "source": [
    "def steffensen_helper(x0, func, iterMax):\n",
    "    \"\"\"\n",
    "\n",
    "    Función Steffensen para encontrar la k-ésima iteración\n",
    "    \n",
    "    Parámetros:\n",
    "        x0: Aproximación inicial.\n",
    "        func: Función cuya raíz se desea encontrar.\n",
    "        iterMax: Número máximo de iteraciones permitidas.\n",
    "    \n",
    "    Resultados:\n",
    "        xk: aproximación de la k-ésima iteración\n",
    "    \"\"\"\n",
    "    # Convertir la función simbólica a una función numérica\n",
    "    f = lambdify(x, func)\n",
    "    xk = x0\n",
    "    \n",
    "    # Iterar hasta alcanzar el número máximo de iteraciones\n",
    "    for i in range(iterMax):\n",
    "        f_xk = f(xk) # Calcular el valor de la función en la aproximación actual\n",
    "        f_xk_plus_f_xk = f(xk + f_xk) # Calcular f(xk + f(xk))\n",
    "         # Verificar si se está aproximando a una división por cero\n",
    "        if abs(f_xk_plus_f_xk - f_xk) < 1e-10:\n",
    "            break  # Salir del bucle si la división por cero es inminente\n",
    "        # Calcular el cuadrado de f(xk)\n",
    "        f_2 = f_xk**2\n",
    "        # Actualizar la aproximación utilizando el método de Steffensen\n",
    "        xk = xk - f_2 / (f_xk_plus_f_xk - f_xk)\n",
    "    \n",
    "    return xk\n"
   ]
  },
  {
   "cell_type": "code",
   "execution_count": 386,
   "id": "1dd11aba",
   "metadata": {},
   "outputs": [],
   "source": [
    "def steffensen_secante(x0, func, tol, iterMax):\n",
    "    \"\"\"\n",
    "    Método de Steffensen-Secante para encontrar el cero de una función.\n",
    "\n",
    "    Parámetros:\n",
    "        x0: Aproximación inicial.\n",
    "        func: Función a la que se le encontrara el cero.\n",
    "        tol: Tolerancia para detener el método.\n",
    "        iterMax: Número máximo de iteraciones permitidas.\n",
    "\n",
    "    Resultados:\n",
    "        xk: Aproximación de la raíz encontrada.\n",
    "        error: Valor absoluto de f(xk), que se toma como el error en la aproximación.\n",
    "        k: Número de iteraciones realizadas.\n",
    "    \"\"\"\n",
    "    # Convertir la función simbólica a una función numérica\n",
    "    f = lambdify(x, func)\n",
    "    \n",
    "     # Inicializar variables\n",
    "    xk = x0\n",
    "    k = 0\n",
    "    \n",
    "    # Iterar hasta alcanzar el número máximo de iteraciones\n",
    "    for i in range(1, iterMax):\n",
    "        # Calcular el valor de la función en la aproximación actual\n",
    "        fx = f(xk)\n",
    "        \n",
    "        # Calcular funcev1, funcev2 y funcev3\n",
    "        funcev1 = fx**3\n",
    "        funcev2 = f(xk + fx) - fx\n",
    "        steff_x = steffensen_helper(xk, func, i)\n",
    "        funcev3 = f(xk) - f(steff_x)\n",
    "\n",
    "        # Actualizar la aproximación utilizando el método de Steffensen-Secante\n",
    "        xk = xk - funcev1 / (funcev2 * funcev3)\n",
    "\n",
    "        # Calcular el nuevo error absoluto (valor absoluto de f(xk))\n",
    "        error = abs(f(xk))\n",
    "\n",
    "        # Comprobar si se ha alcanzado la tolerancia deseada\n",
    "        if error < tol:\n",
    "            k = i\n",
    "            break # Salir del bucle si se cumple la condición de parada\n",
    "        \n",
    "    return xk, error, k\n"
   ]
  },
  {
   "cell_type": "code",
   "execution_count": 387,
   "id": "a18aa1f9-ca72-4bf6-8b8e-66614c8ee69a",
   "metadata": {},
   "outputs": [],
   "source": [
    "def noor_one_point(f, x0, tol, iterMax):\n",
    "    \"\"\"\n",
    "\n",
    "    Función de Noor's One-Point para encontrar la raíz de una ecuación.\n",
    "    \n",
    "    Parámetros:\n",
    "        f: Función a la que se le buscará la raíz.\n",
    "        x0: Aproximación inicial.\n",
    "        tol: Tolerancia para detener el método.\n",
    "        iterMax: Número máximo de iteraciones permitidas.\n",
    "    \n",
    "    Resultados:\n",
    "        x: Aproximación de la raíz encontrada.\n",
    "        error: Valor absoluto de f(x), que se toma como el error en la aproximación.\n",
    "        k: Número de iteraciones realizadas.\n",
    "        tiempo: Tiempo de ejecución del método en segundos.\n",
    "    \"\"\"\n",
    "    \n",
    "    # Iniciar el temporizador para medir el tiempo de ejecución\n",
    "    start_time = time.time()\n",
    "    \n",
    "    # Inicializar variables\n",
    "    x = x0\n",
    "    k = 0           # Contador de iteraciones\n",
    "    error = float('inf')     # Error inicial (inicializado en infinito)\n",
    "    \n",
    "    # Iterar hasta alcanzar el número máximo de iteraciones\n",
    "    while k < iterMax:\n",
    "        # Calcular el valor de la función en la aproximación actual\n",
    "        f_x = f(x)\n",
    "        \n",
    "        # Calcular la derivada numérica en la aproximación actual utilizando diferencias finitas\n",
    "        f_prime_x = (f(x + tol) - f(x - tol)) / (2 * tol)\n",
    "\n",
    "        # Manejar el caso donde la derivada es aproximadamente cero\n",
    "        if abs(f_prime_x) < 1e-10:\n",
    "            # Evitar la división por cero, ajustando ligeramente la derivada\n",
    "            f_prime_x = 1e-10\n",
    "        \n",
    "        # Actualizar la aproximación utilizando el método de Noor's One-Point de segundo orden\n",
    "        x = x - f_x / f_prime_x\n",
    "        \n",
    "        # Calcular el nuevo error absoluto (valor absoluto de f(x))\n",
    "        error = abs(f_x)\n",
    "        \n",
    "        # Comprobar si se ha alcanzado la tolerancia deseada\n",
    "        if error < tol:\n",
    "            break  # Salir del bucle si se cumple la condición de parada\n",
    "        \n",
    "        # Incrementar el contador de iteraciones\n",
    "        k += 1\n",
    "    \n",
    "    # Detener el temporizador y registrar el tiempo de ejecución\n",
    "    tiempo = time.time() - start_time\n",
    "    \n",
    "    return x, error, k, tiempo\n",
    "    "
   ]
  },
  {
   "cell_type": "code",
   "execution_count": 388,
   "id": "513714e8-e1d0-44fd-89f6-1a830dea6f67",
   "metadata": {},
   "outputs": [],
   "source": [
    "def f(x):\n",
    "    return exp(x)-x-10"
   ]
  },
  {
   "cell_type": "markdown",
   "id": "b2471545",
   "metadata": {},
   "source": [
    "# Testing"
   ]
  },
  {
   "cell_type": "code",
   "execution_count": 389,
   "id": "4918eac7",
   "metadata": {},
   "outputs": [
    {
     "name": "stdout",
     "output_type": "stream",
     "text": [
      "Xk: 2.527963201981038\n",
      "Error: 1.3100631690576847e-11\n",
      "Número de iteraciones: 30\n",
      "Tiempo de ejecución: 0.0009992122650146484 segundos\n"
     ]
    }
   ],
   "source": [
    "start = time.time()\n",
    "xk, err, k = biseccion(-2,3, exp(x)-x-10,1e-10, 1000)\n",
    "stop = time.time()\n",
    "\n",
    "print(\"Xk:\", xk)\n",
    "print(\"Error:\", err)\n",
    "print(\"Número de iteraciones:\", k)\n",
    "print(f\"Tiempo de ejecución: {stop - start}\", \"segundos\")"
   ]
  },
  {
   "cell_type": "code",
   "execution_count": 390,
   "id": "8997362a",
   "metadata": {},
   "outputs": [
    {
     "name": "stdout",
     "output_type": "stream",
     "text": [
      "Xk: 2.527963201982135\n",
      "Error: 4.511946372076636e-13\n",
      "Número de iteraciones: 7\n",
      "Tiempo de ejecución: 0.0010001659393310547 segundos\n"
     ]
    }
   ],
   "source": [
    "start = time.time()\n",
    "xk, err, k = falsa_posicion(-2,3, exp(x)-x-10,1e-10, 1000)\n",
    "stop = time.time()\n",
    "\n",
    "print(\"Xk:\", xk)\n",
    "print(\"Error:\", err)\n",
    "print(\"Número de iteraciones:\", k)\n",
    "print(f\"Tiempo de ejecución: {stop - start}\", \"segundos\")"
   ]
  },
  {
   "cell_type": "code",
   "execution_count": 391,
   "id": "4566731b",
   "metadata": {},
   "outputs": [
    {
     "name": "stdout",
     "output_type": "stream",
     "text": [
      "Xk: 2.99351528483724\n",
      "Tiempo de ejecución: 0.0009992122650146484 segundos\n"
     ]
    }
   ],
   "source": [
    "start = time.time()\n",
    "xk= steffensen_helper(3, exp(x)-x-10, 3)\n",
    "stop = time.time()\n",
    "\n",
    "print(\"Xk:\", xk)\n",
    "print(f\"Tiempo de ejecución: {stop - start}\", \"segundos\")"
   ]
  },
  {
   "cell_type": "code",
   "execution_count": 392,
   "id": "e5ba7b68",
   "metadata": {
    "scrolled": true
   },
   "outputs": [
    {
     "name": "stdout",
     "output_type": "stream",
     "text": [
      "Xk: 2.5279632019821743\n",
      "Error: 0.0\n",
      "Número de iteraciones: 7\n",
      "Tiempo de ejecución: 0.00500178337097168 segundos\n"
     ]
    }
   ],
   "source": [
    "start = time.time()\n",
    "xk, err, k = steffensen_secante(3, exp(x)-x-10,1e-10, 1000)\n",
    "stop = time.time()\n",
    "\n",
    "print(\"Xk:\", xk)\n",
    "print(\"Error:\", err)\n",
    "print(\"Número de iteraciones:\", k)\n",
    "print(f\"Tiempo de ejecución: {stop - start}\", \"segundos\")"
   ]
  },
  {
   "cell_type": "code",
   "execution_count": 393,
   "id": "f366baed-20dc-45d2-8eb2-b95f3dac261f",
   "metadata": {},
   "outputs": [
    {
     "name": "stdout",
     "output_type": "stream",
     "text": [
      "Xk: 2.52796320198217\n",
      "Error: 0\n",
      "Número de iteraciones: 5\n",
      "Tiempo de ejecución: 0.0009999275 segundos\n"
     ]
    }
   ],
   "source": [
    "# Llama a la función Noor_One_point\n",
    "x0 = 3.0\n",
    "tol = 1e-10\n",
    "iterMax = 1000\n",
    "\n",
    "start = time.time()\n",
    "xk, err, k, tiempo_ejec = noor_one_point(f, x0, tol, iterMax)\n",
    "stop = time.time()\n",
    "\n",
    "print(\"Xk:\", xk)\n",
    "print(\"Error:\", err)\n",
    "print(\"Número de iteraciones:\", k)\n",
    "print(\"Tiempo de ejecución:\", \"{:.10f}\".format(tiempo_ejec), \"segundos\")"
   ]
  },
  {
   "cell_type": "code",
   "execution_count": null,
   "id": "15749bc3",
   "metadata": {},
   "outputs": [],
   "source": []
  }
 ],
 "metadata": {
  "kernelspec": {
   "display_name": "Python 3 (ipykernel)",
   "language": "python",
   "name": "python3"
  },
  "language_info": {
   "codemirror_mode": {
    "name": "ipython",
    "version": 3
   },
   "file_extension": ".py",
   "mimetype": "text/x-python",
   "name": "python",
   "nbconvert_exporter": "python",
   "pygments_lexer": "ipython3",
   "version": "3.11.5"
  }
 },
 "nbformat": 4,
 "nbformat_minor": 5
}
