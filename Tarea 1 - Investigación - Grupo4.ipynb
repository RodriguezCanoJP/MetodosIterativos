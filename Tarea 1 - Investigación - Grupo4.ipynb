{
 "cells": [
  {
   "cell_type": "code",
   "execution_count": 3,
   "id": "6a28f08d",
   "metadata": {},
   "outputs": [],
   "source": [
    "import time\n",
    "from sympy import *\n",
    "\n",
    "import numpy as np"
   ]
  },
  {
   "cell_type": "code",
   "execution_count": 4,
   "id": "247d3e0f",
   "metadata": {},
   "outputs": [],
   "source": [
    "x = symbols('x')"
   ]
  },
  {
   "cell_type": "markdown",
   "id": "54bb2f7d",
   "metadata": {},
   "source": [
    "# Funciones"
   ]
  },
  {
   "cell_type": "code",
   "execution_count": 5,
   "id": "7d6ed0f3",
   "metadata": {},
   "outputs": [],
   "source": [
    "def biseccion(a, b, func, tol, iterMax):\n",
    "    f = lambdify(x,func)\n",
    "    \n",
    "    xk=None\n",
    "    error = abs(f(a+b/2))\n",
    "    k=iterMax\n",
    "    \n",
    "    for i in range(iterMax):\n",
    "        if f(a)*f(b) < 0:\n",
    "            xk = (a+b)/2\n",
    "            error = abs(f(xk))\n",
    "            if f(xk)*f(a) < 0:\n",
    "                b=xk\n",
    "            else:\n",
    "                a=xk\n",
    "            if error <= tol:\n",
    "                k=i\n",
    "                break\n",
    "        else:\n",
    "            xk=None\n",
    "    \n",
    "    return xk,error,k"
   ]
  },
  {
   "cell_type": "code",
   "execution_count": 6,
   "id": "d7a3975f",
   "metadata": {},
   "outputs": [],
   "source": [
    "def falsa_posicion(a, b, func, tol, iterMax):\n",
    "    f = lambdify(x,func)\n",
    "    \n",
    "    xk=b\n",
    "    error = abs(f(a+b/2))\n",
    "    k=iterMax\n",
    "    \n",
    "    x_c = xk\n",
    "    x_p = a\n",
    "    \n",
    "    for i in range(iterMax):\n",
    "        if f(a)*f(b) < 0:\n",
    "            xk = xk - (f(x_c)*(x_c - x_p))/(f(x_c)-f(x_p))\n",
    "            x_p=x_c\n",
    "            x_c=xk\n",
    "            error = abs(f(xk))\n",
    "            if f(xk)*f(a) < 0:\n",
    "                b=xk\n",
    "            else:\n",
    "                a=xk\n",
    "            if error <= tol:\n",
    "                k=i\n",
    "                break\n",
    "        else:\n",
    "            xk=None\n",
    "    \n",
    "    return xk,error,k"
   ]
  },
  {
   "cell_type": "code",
   "execution_count": 7,
   "id": "52e67a11",
   "metadata": {},
   "outputs": [],
   "source": [
    "def steffensen_helper(x0, func, iterMax):\n",
    "    f = lambdify(x, func)\n",
    "    xk = x0\n",
    "    \n",
    "    for i in range(iterMax):\n",
    "        f_2 = f(xk)**2\n",
    "        xk = xk - f_2/(f(xk + f(xk))-f(xk))\n",
    "    \n",
    "    return xk"
   ]
  },
  {
   "cell_type": "code",
   "execution_count": 8,
   "id": "1dd11aba",
   "metadata": {},
   "outputs": [],
   "source": [
    "def steffensen_secante(x0, func, tol, iterMax):\n",
    "    f = lambdify(x, func)\n",
    "    \n",
    "    xk = x0\n",
    "    error=f(xk)\n",
    "    k=0\n",
    "    \n",
    "    for i in range(1,iterMax):\n",
    "        fx = f(xk)\n",
    "        funcev1 = fx**3\n",
    "        funcev2 = f(xk + fx)-fx\n",
    "        steff_x = steffensen_helper(x0, func, i)\n",
    "        funcev3 = f(xk) - f(steff_x)\n",
    "        xk = xk - funcev1/(funcev2 * funcev3)\n",
    "        error = abs(f(xk))\n",
    "        if error < tol:\n",
    "            k=i\n",
    "            break\n",
    "    \n",
    "    return xk, error, k"
   ]
  },
  {
   "cell_type": "code",
   "execution_count": 9,
   "id": "a18aa1f9-ca72-4bf6-8b8e-66614c8ee69a",
   "metadata": {},
   "outputs": [],
   "source": [
    "def noor_one_point(f, x0, tol, iterMax):\n",
    "    \"\"\"\n",
    "\n",
    "    Función de Noor's One-Point para encontrar la raíz de una ecuación.\n",
    "    \n",
    "    Parámetros:\n",
    "        f: Función a la que se le buscará la raíz.\n",
    "        x0: Aproximación inicial.\n",
    "        tol: Tolerancia para detener el método.\n",
    "        iterMax: Número máximo de iteraciones permitidas.\n",
    "    \n",
    "    Resultados:\n",
    "        x: Aproximación de la raíz encontrada.\n",
    "        error: Valor absoluto de f(x), que se toma como el error en la aproximación.\n",
    "        k: Número de iteraciones realizadas.\n",
    "        tiempo: Tiempo de ejecución del método en segundos.\n",
    "    \"\"\"\n",
    "    \n",
    "    # Iniciar el temporizador para medir el tiempo de ejecución\n",
    "    start_time = time.time()\n",
    "    \n",
    "    # Inicializar variables\n",
    "    x = x0\n",
    "    k = 0           # Contador de iteraciones\n",
    "    error = float('inf')     # Error inicial (inicializado en infinito)\n",
    "    \n",
    "    # Iterar hasta alcanzar el número máximo de iteraciones\n",
    "    while k < iterMax:\n",
    "        # Calcular el valor de la función en la aproximación actual\n",
    "        f_x = f(x)\n",
    "        \n",
    "        # Calcular la derivada numérica en la aproximación actual utilizando diferencias finitas\n",
    "        f_prime_x = (f(x + tol) - f(x - tol)) / (2 * tol)\n",
    "\n",
    "        # Manejar el caso donde la derivada es aproximadamente cero\n",
    "        if abs(f_prime_x) < 1e-10:\n",
    "            # Evitar la división por cero, ajustando ligeramente la derivada\n",
    "            f_prime_x = 1e-10\n",
    "        \n",
    "        # Actualizar la aproximación utilizando el método de Noor's One-Point de segundo orden\n",
    "        x = x - f_x / f_prime_x\n",
    "        \n",
    "        # Calcular el nuevo error absoluto (valor absoluto de f(x))\n",
    "        error = abs(f_x)\n",
    "        \n",
    "        # Comprobar si se ha alcanzado la tolerancia deseada\n",
    "        if error < tol:\n",
    "            break  # Salir del bucle si se cumple la condición de parada\n",
    "        \n",
    "        # Incrementar el contador de iteraciones\n",
    "        k += 1\n",
    "    \n",
    "    # Detener el temporizador y registrar el tiempo de ejecución\n",
    "    tiempo = time.time() - start_time\n",
    "    \n",
    "    return x, error, k, tiempo\n",
    "    "
   ]
  },
  {
   "cell_type": "code",
   "execution_count": 10,
   "id": "513714e8-e1d0-44fd-89f6-1a830dea6f67",
   "metadata": {},
   "outputs": [],
   "source": [
    "def f(x):\n",
    "    return exp(x)-x-10"
   ]
  },
  {
   "cell_type": "markdown",
   "id": "b2471545",
   "metadata": {},
   "source": [
    "# Testing"
   ]
  },
  {
   "cell_type": "code",
   "execution_count": 11,
   "id": "4918eac7",
   "metadata": {},
   "outputs": [
    {
     "name": "stdout",
     "output_type": "stream",
     "text": [
      "Xk: 2.527963201981038\n",
      "Error: 1.3100631690576847e-11\n",
      "Número de iteraciones: 30\n",
      "Tiempo de ejecución: 0.4335000514984131 segundos\n"
     ]
    }
   ],
   "source": [
    "start = time.time()\n",
    "xk, err, k = biseccion(-2,3, exp(x)-x-10,1e-10, 1000)\n",
    "stop = time.time()\n",
    "\n",
    "print(\"Xk:\", xk)\n",
    "print(\"Error:\", err)\n",
    "print(\"Número de iteraciones:\", k)\n",
    "print(f\"Tiempo de ejecución: {stop - start}\", \"segundos\")"
   ]
  },
  {
   "cell_type": "code",
   "execution_count": 12,
   "id": "8997362a",
   "metadata": {},
   "outputs": [
    {
     "name": "stdout",
     "output_type": "stream",
     "text": [
      "Xk: 2.5279632019811604\n",
      "Error: 1.1686651646414248e-11\n",
      "Número de iteraciones: 9\n",
      "Tiempo de ejecución: 0.0034089088439941406 segundos\n"
     ]
    }
   ],
   "source": [
    "start = time.time()\n",
    "xk, err, k = falsa_posicion(-2,3, exp(x)-x-10,1e-10, 1000)\n",
    "stop = time.time()\n",
    "\n",
    "print(\"Xk:\", xk)\n",
    "print(\"Error:\", err)\n",
    "print(\"Número de iteraciones:\", k)\n",
    "print(f\"Tiempo de ejecución: {stop - start}\", \"segundos\")"
   ]
  },
  {
   "cell_type": "code",
   "execution_count": 13,
   "id": "4566731b",
   "metadata": {},
   "outputs": [
    {
     "name": "stdout",
     "output_type": "stream",
     "text": [
      "Xk: 2.99351528483724\n",
      "Tiempo de ejecución: 0.004174232482910156 segundos\n"
     ]
    }
   ],
   "source": [
    "start = time.time()\n",
    "xk= steffensen_helper(3, exp(x)-x-10, 3)\n",
    "stop = time.time()\n",
    "\n",
    "print(\"Xk:\", xk)\n",
    "print(f\"Tiempo de ejecución: {stop - start}\", \"segundos\")"
   ]
  },
  {
   "cell_type": "code",
   "execution_count": 15,
   "id": "e5ba7b68",
   "metadata": {
    "scrolled": true
   },
   "outputs": [
    {
     "name": "stdout",
     "output_type": "stream",
     "text": [
      "Xk: 0.6391540963320076\n",
      "Error: 1.1102230246251565e-16\n",
      "Número de iteraciones: 7\n",
      "Tiempo de ejecución: 0.018552780151367188 segundos\n"
     ]
    }
   ],
   "source": [
    "start = time.time()\n",
    "xk, err, k = steffensen_secante(3, cos(x)-(x*exp(x))+(x**2),1e-10, 1000)\n",
    "stop = time.time()\n",
    "\n",
    "print(\"Xk:\", xk)\n",
    "print(\"Error:\", err)\n",
    "print(\"Número de iteraciones:\", k)\n",
    "print(f\"Tiempo de ejecución: {stop - start}\", \"segundos\")"
   ]
  },
  {
   "cell_type": "code",
   "execution_count": 12,
   "id": "f366baed-20dc-45d2-8eb2-b95f3dac261f",
   "metadata": {},
   "outputs": [
    {
     "ename": "NameError",
     "evalue": "name 'f' is not defined",
     "output_type": "error",
     "traceback": [
      "\u001b[0;31m---------------------------------------------------------------------------\u001b[0m",
      "\u001b[0;31mNameError\u001b[0m                                 Traceback (most recent call last)",
      "Input \u001b[0;32mIn [12]\u001b[0m, in \u001b[0;36m<cell line: 7>\u001b[0;34m()\u001b[0m\n\u001b[1;32m      4\u001b[0m iterMax \u001b[38;5;241m=\u001b[39m \u001b[38;5;241m1000\u001b[39m\n\u001b[1;32m      6\u001b[0m start \u001b[38;5;241m=\u001b[39m time\u001b[38;5;241m.\u001b[39mtime()\n\u001b[0;32m----> 7\u001b[0m xk, err, k, tiempo_ejec \u001b[38;5;241m=\u001b[39m noor_one_point(\u001b[43mf\u001b[49m, x0, tol, iterMax)\n\u001b[1;32m      8\u001b[0m stop \u001b[38;5;241m=\u001b[39m time\u001b[38;5;241m.\u001b[39mtime()\n\u001b[1;32m     10\u001b[0m \u001b[38;5;28mprint\u001b[39m(\u001b[38;5;124m\"\u001b[39m\u001b[38;5;124mXk:\u001b[39m\u001b[38;5;124m\"\u001b[39m, xk)\n",
      "\u001b[0;31mNameError\u001b[0m: name 'f' is not defined"
     ]
    }
   ],
   "source": [
    "# Llama a la función steffensen_secant\n",
    "x0 = 1.5\n",
    "tol = 1e-10\n",
    "iterMax = 1000\n",
    "\n",
    "start = time.time()\n",
    "xk, err, k, tiempo_ejec = noor_one_point(f, x0, tol, iterMax)\n",
    "stop = time.time()\n",
    "\n",
    "print(\"Xk:\", xk)\n",
    "print(\"Error:\", err)\n",
    "print(\"Número de iteraciones:\", k)\n",
    "print(\"Tiempo de ejecución:\", \"{:.10f}\".format(tiempo_ejec), \"segundos\")"
   ]
  },
  {
   "cell_type": "code",
   "execution_count": null,
   "id": "15749bc3",
   "metadata": {},
   "outputs": [],
   "source": []
  }
 ],
 "metadata": {
  "kernelspec": {
   "display_name": "Python 3 (ipykernel)",
   "language": "python",
   "name": "python3"
  },
  "language_info": {
   "codemirror_mode": {
    "name": "ipython",
    "version": 3
   },
   "file_extension": ".py",
   "mimetype": "text/x-python",
   "name": "python",
   "nbconvert_exporter": "python",
   "pygments_lexer": "ipython3",
   "version": "3.9.13"
  }
 },
 "nbformat": 4,
 "nbformat_minor": 5
}
